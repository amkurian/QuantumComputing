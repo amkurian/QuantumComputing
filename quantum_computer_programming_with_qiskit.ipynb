{
 "cells": [
  {
   "cell_type": "code",
   "execution_count": 3,
   "metadata": {},
   "outputs": [],
   "source": [
    "import qiskit as q\n",
    "%matplotlib inline\n"
   ]
  },
  {
   "cell_type": "code",
   "execution_count": 4,
   "metadata": {},
   "outputs": [
    {
     "data": {
      "text/plain": [
       "<qiskit.circuit.instructionset.InstructionSet at 0x124e82350>"
      ]
     },
     "execution_count": 4,
     "metadata": {},
     "output_type": "execute_result"
    }
   ],
   "source": [
    "circuit = q.QuantumCircuit(2,2) # 2 qubits, 2 classical bits \n",
    "# (0,0)\n",
    "circuit.x(0) #not gate that flips the value of 0th qubit\n",
    "#(1,0)\n",
    "circuit.cx(0,1) #cnot, controlled not, Flips 2nd qubit's value if first qubit is 1\n",
    "#(1,1)\n"
   ]
  },
  {
   "cell_type": "code",
   "execution_count": 5,
   "metadata": {},
   "outputs": [
    {
     "data": {
      "text/html": [
       "<pre style=\"word-wrap: normal;white-space: pre;background: #fff0;line-height: 1.1;font-family: &quot;Courier New&quot;,Courier,monospace\">        ┌───┐     ┌─┐   \n",
       "q_0: |0>┤ X ├──■──┤M├───\n",
       "        └───┘┌─┴─┐└╥┘┌─┐\n",
       "q_1: |0>─────┤ X ├─╫─┤M├\n",
       "             └───┘ ║ └╥┘\n",
       " c_0: 0 ═══════════╩══╬═\n",
       "                      ║ \n",
       " c_1: 0 ══════════════╩═\n",
       "                        </pre>"
      ],
      "text/plain": [
       "<qiskit.visualization.text.TextDrawing at 0x124e82f50>"
      ]
     },
     "execution_count": 5,
     "metadata": {},
     "output_type": "execute_result"
    }
   ],
   "source": [
    "circuit.measure([0,1], [0,1])  \n",
    "# ([qbitregister], [classicalbitregister]) Measure qubit 0 and 1 to classical bits 0 and 1\n",
    "circuit.draw()\n"
   ]
  },
  {
   "cell_type": "code",
   "execution_count": 6,
   "metadata": {},
   "outputs": [
    {
     "data": {
      "image/png": "[encoded data removed]",
      "text/plain": [
       "<Figure size 397.32x204.68 with 1 Axes>"
      ]
     },
     "execution_count": 6,
     "metadata": {},
     "output_type": "execute_result"
    }
   ],
   "source": [
    "circuit.draw(output=\"mpl\")"
   ]
  },
  {
   "cell_type": "code",
   "execution_count": 7,
   "metadata": {},
   "outputs": [
    {
     "name": "stderr",
     "output_type": "stream",
     "text": [
      "Credentials already present. Set overwrite=True to overwrite.\n"
     ]
    }
   ],
   "source": [
    "from qiskit import IBMQ\n",
    "IBMQ.save_account(open(\"token.txt\",\"r\").read())\n"
   ]
  },
  {
   "cell_type": "code",
   "execution_count": 8,
   "metadata": {},
   "outputs": [
    {
     "name": "stderr",
     "output_type": "stream",
     "text": [
      "/usr/local/lib/python3.7/site-packages/qiskit/providers/models/backendconfiguration.py:337: UserWarning: `dt` and `dtm` now have units of seconds(s) rather than nanoseconds(ns).\n",
      "  warnings.warn('`dt` and `dtm` now have units of seconds(s) rather '\n"
     ]
    },
    {
     "data": {
      "text/plain": [
       "<AccountProvider for IBMQ(hub='ibm-q', group='open', project='main')>"
      ]
     },
     "execution_count": 8,
     "metadata": {},
     "output_type": "execute_result"
    }
   ],
   "source": [
    "IBMQ.load_account()\n"
   ]
  },
  {
   "cell_type": "code",
   "execution_count": 9,
   "metadata": {},
   "outputs": [
    {
     "data": {
      "text/plain": [
       "[<AccountProvider for IBMQ(hub='ibm-q', group='open', project='main')>]"
      ]
     },
     "execution_count": 9,
     "metadata": {},
     "output_type": "execute_result"
    }
   ],
   "source": [
    "IBMQ.providers()\n"
   ]
  },
  {
   "cell_type": "code",
   "execution_count": 10,
   "metadata": {},
   "outputs": [],
   "source": [
    "provider = IBMQ.get_provider('ibm-q')"
   ]
  },
  {
   "cell_type": "code",
   "execution_count": 11,
   "metadata": {},
   "outputs": [
    {
     "data": {
      "text/plain": [
       "IBMQBackendService(_provider=<AccountProvider for IBMQ(hub='ibm-q', group='open', project='main')>, ibmq_16_melbourne=<IBMQBackend('ibmq_16_melbourne') from IBMQ(hub='ibm-q', group='open', project='main')>, ibmq_armonk=<IBMQBackend('ibmq_armonk') from IBMQ(hub='ibm-q', group='open', project='main')>, ibmq_burlington=<IBMQBackend('ibmq_burlington') from IBMQ(hub='ibm-q', group='open', project='main')>, ibmq_essex=<IBMQBackend('ibmq_essex') from IBMQ(hub='ibm-q', group='open', project='main')>, ibmq_london=<IBMQBackend('ibmq_london') from IBMQ(hub='ibm-q', group='open', project='main')>, ibmq_ourense=<IBMQBackend('ibmq_ourense') from IBMQ(hub='ibm-q', group='open', project='main')>, ibmq_qasm_simulator=<IBMQSimulator('ibmq_qasm_simulator') from IBMQ(hub='ibm-q', group='open', project='main')>, ibmq_vigo=<IBMQBackend('ibmq_vigo') from IBMQ(hub='ibm-q', group='open', project='main')>, ibmqx2=<IBMQBackend('ibmqx2') from IBMQ(hub='ibm-q', group='open', project='main')>)"
      ]
     },
     "execution_count": 11,
     "metadata": {},
     "output_type": "execute_result"
    }
   ],
   "source": [
    "provider.backends"
   ]
  },
  {
   "cell_type": "code",
   "execution_count": 12,
   "metadata": {},
   "outputs": [
    {
     "name": "stdout",
     "output_type": "stream",
     "text": [
      "ibmq_qasm_simulator has 0 queued and simulated qubits\n",
      "ibmqx2 has 1 queued and 5 qubits\n",
      "ibmq_16_melbourne has 1 queued and 15 qubits\n",
      "ibmq_vigo has 141 queued and 5 qubits\n",
      "ibmq_ourense has 4 queued and 5 qubits\n",
      "ibmq_london has 2379 queued and 5 qubits\n",
      "ibmq_burlington has 1 queued and 5 qubits\n",
      "ibmq_essex has 46 queued and 5 qubits\n",
      "ibmq_armonk has 0 queued and 1 qubits\n"
     ]
    }
   ],
   "source": [
    "for backend in provider.backends():\n",
    "    try:\n",
    "        qubit_count = len(backend.properties().qubits)\n",
    "    except:\n",
    "        qubit_count = \"simulated\"\n",
    "        \n",
    "    print(f\"{backend.name()} has {backend.status().pending_jobs} queued and {qubit_count} qubits\")"
   ]
  },
  {
   "cell_type": "code",
   "execution_count": 14,
   "metadata": {},
   "outputs": [
    {
     "name": "stdout",
     "output_type": "stream",
     "text": [
      "Job Status: job has successfully run\n"
     ]
    }
   ],
   "source": [
    "from qiskit.tools.monitor import job_monitor\n",
    "\n",
    "backend = provider.get_backend(\"ibmq_burlington\")\n",
    "job = q.execute(circuit, backend=backend, shots=500)\n",
    "job_monitor(job)"
   ]
  },
  {
   "cell_type": "code",
   "execution_count": 15,
   "metadata": {},
   "outputs": [
    {
     "data": {
      "image/png": "[encoded data removed]",
      "text/plain": [
       "<Figure size 504x360 with 1 Axes>"
      ]
     },
     "execution_count": 15,
     "metadata": {},
     "output_type": "execute_result"
    }
   ],
   "source": [
    "from qiskit.visualization import plot_histogram\n",
    "from matplotlib import style\n",
    "\n",
    "style.use(\"dark_background\") # I am using dark mode notebook, so I use this to see the chart.\n",
    "\n",
    "result = job.result()\n",
    "counts = result.get_counts(circuit)\n",
    "\n",
    "plot_histogram([counts], legend=['Device'])"
   ]
  },
  {
   "cell_type": "code",
   "execution_count": 16,
   "metadata": {},
   "outputs": [
    {
     "data": {
      "text/plain": [
       "<qiskit.circuit.instructionset.InstructionSet at 0x125097e90>"
      ]
     },
     "execution_count": 16,
     "metadata": {},
     "output_type": "execute_result"
    }
   ],
   "source": [
    "circuit = q.QuantumCircuit(2,2)  # 2 qbits, 2 classical bits.\n",
    "circuit.h(0) # Hadamard gate, puts qubit 0 into superposition\n",
    "circuit.cx(0, 1) #cnot, controlled not, Flips 2nd qubit's value if first qubit is 1\n",
    "circuit.measure([0,1], [0,1])  # ([qbitregister], [classicalbitregister]) Measure qubit 0 and 1 to classical bits 0 and 1"
   ]
  },
  {
   "cell_type": "code",
   "execution_count": 17,
   "metadata": {},
   "outputs": [
    {
     "data": {
      "image/png": "[encoded data removed]",
      "text/plain": [
       "<Figure size 397.32x204.68 with 1 Axes>"
      ]
     },
     "execution_count": 17,
     "metadata": {},
     "output_type": "execute_result"
    }
   ],
   "source": [
    "circuit.draw(output=\"mpl\")"
   ]
  },
  {
   "cell_type": "code",
   "execution_count": 18,
   "metadata": {},
   "outputs": [
    {
     "name": "stdout",
     "output_type": "stream",
     "text": [
      "Job Status: job has successfully run\n"
     ]
    }
   ],
   "source": [
    "backend = provider.get_backend(\"ibmq_burlington\")\n",
    "job = q.execute(circuit, backend=backend, shots=500)\n",
    "job_monitor(job)"
   ]
  },
  {
   "cell_type": "code",
   "execution_count": 19,
   "metadata": {},
   "outputs": [
    {
     "data": {
      "image/png": "[encoded data removed]",
      "text/plain": [
       "<Figure size 504x360 with 1 Axes>"
      ]
     },
     "execution_count": 19,
     "metadata": {},
     "output_type": "execute_result"
    }
   ],
   "source": [
    "result = job.result()\n",
    "counts = result.get_counts(circuit)\n",
    "\n",
    "plot_histogram([counts], legend=['Device'])"
   ]
  },
  {
   "cell_type": "code",
   "execution_count": 20,
   "metadata": {},
   "outputs": [],
   "source": [
    "from qiskit import Aer  # simulator framework from qiskit\n",
    "\n",
    "# will create a statevector of possibilities. \n",
    "sim_backend = Aer.get_backend('qasm_simulator')"
   ]
  },
  {
   "cell_type": "code",
   "execution_count": 21,
   "metadata": {},
   "outputs": [
    {
     "name": "stdout",
     "output_type": "stream",
     "text": [
      "Job Status: job has successfully run\n"
     ]
    },
    {
     "data": {
      "image/png": "[encoded data removed]",
      "text/plain": [
       "<Figure size 504x360 with 1 Axes>"
      ]
     },
     "execution_count": 21,
     "metadata": {},
     "output_type": "execute_result"
    }
   ],
   "source": [
    "job = q.execute(circuit, backend=sim_backend, shots=500)\n",
    "job_monitor(job)\n",
    "result = job.result()\n",
    "counts = result.get_counts(circuit)\n",
    "\n",
    "plot_histogram([counts], legend=['Device'])"
   ]
  },
  {
   "cell_type": "code",
   "execution_count": null,
   "metadata": {},
   "outputs": [],
   "source": []
  }
 ],
 "metadata": {
  "kernelspec": {
   "display_name": "Python 3",
   "language": "python",
   "name": "python3"
  },
  "language_info": {
   "codemirror_mode": {
    "name": "ipython",
    "version": 3
   },
   "file_extension": ".py",
   "mimetype": "text/x-python",
   "name": "python",
   "nbconvert_exporter": "python",
   "pygments_lexer": "ipython3",
   "version": "3.7.5"
  }
 },
 "nbformat": 4,
 "nbformat_minor": 2
}
